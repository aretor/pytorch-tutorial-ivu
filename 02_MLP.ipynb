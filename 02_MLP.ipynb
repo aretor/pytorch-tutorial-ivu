{
 "cells": [
  {
   "cell_type": "code",
   "execution_count": 10,
   "metadata": {
    "pycharm": {
     "is_executing": false
    }
   },
   "outputs": [],
   "source": [
    "import torch\n",
    "import torch.nn as nn\n",
    "import torch.optim as optim\n",
    "from torch.utils.data import DataLoader\n",
    "import torchvision\n",
    "import torchvision.transforms as transforms\n",
    "from tqdm import tqdm"
   ]
  },
  {
   "cell_type": "code",
   "execution_count": 2,
   "metadata": {
    "pycharm": {
     "is_executing": false
    }
   },
   "outputs": [],
   "source": [
    "# implementation of a Fully Connected ANN\n",
    "class MLP(nn.Module):\n",
    "    def __init__(self):\n",
    "        super().__init__()\n",
    "        self.lin1 = nn.Linear(784, 1024)\n",
    "        self.bn1 = nn.BatchNorm1d(1024)\n",
    "        self.lin2 = nn.Linear(1024, 1024)\n",
    "        self.bn2 = nn.BatchNorm1d(1024)\n",
    "        self.lin3 = nn.Linear(1024, 10)\n",
    "        self.relu = nn.ReLU()\n",
    "\n",
    "    def forward(self, x):\n",
    "        n, c, h, w = x.shape\n",
    "        x = x.view(n, -1)\n",
    "        x = self.relu(self.lin1(x))\n",
    "        x = self.bn1(x)\n",
    "        x = self.relu(self.lin2(x))\n",
    "        x = self.bn2(x)\n",
    "        x = self.lin3(x)\n",
    "        return x"
   ]
  },
  {
   "cell_type": "code",
   "execution_count": 3,
   "metadata": {
    "pycharm": {
     "is_executing": false
    }
   },
   "outputs": [
    {
     "traceback": [
      "\u001b[0;36m  File \u001b[0;32m\"<ipython-input-3-b9dc7c4ac9e4>\"\u001b[0;36m, line \u001b[0;32m11\u001b[0m\n\u001b[0;31m    nn.Linear(1024, 10))\u001b[0m\n\u001b[0m     ^\u001b[0m\n\u001b[0;31mSyntaxError\u001b[0m\u001b[0;31m:\u001b[0m invalid syntax\n"
     ],
     "ename": "SyntaxError",
     "evalue": "invalid syntax (<ipython-input-3-b9dc7c4ac9e4>, line 11)",
     "output_type": "error"
    }
   ],
   "source": [
    "# alternative implementation with Sequential layer\n",
    "class MLP(nn.Module):\n",
    "    def __init__(self):\n",
    "        super().__init__()\n",
    "        self.classifier = nn.Sequential(nn.Linear(784, 1024),\n",
    "                                        nn.ReLU(),\n",
    "                                        nn.BatchNorm1d(1024),\n",
    "                                        nn.Linear(1024, 1024),\n",
    "                                        nn.ReLU(),\n",
    "                                        nn.BatchNorm1d(1024),\n",
    "                                        nn.Linear(1024, 10))\n",
    "\n",
    "    def forward(self, x):\n",
    "        n, c, h, w = x.shape\n",
    "        x = x.view(n, -1)\n",
    "        return self.classifier(x)"
   ]
  },
  {
   "cell_type": "code",
   "execution_count": 8,
   "metadata": {},
   "outputs": [],
   "source": [
    "class Trainer(object):\n",
    "    def __init__(self, model, device, train_loader, test_loader, criterion,\n",
    "                 optimizer):\n",
    "        self.model = model.to(device)\n",
    "        self.device = device\n",
    "        self.criterion = criterion\n",
    "        self.optimizer = optimizer\n",
    "        self.softmax = nn.Softmax(dim=1)\n",
    "\n",
    "        self.train_loader = train_loader\n",
    "        self.test_loader = test_loader\n",
    "\n",
    "    def train(self, epochs=10):\n",
    "        print('Initial accuracy: {}'.format(self.evaluate()))\n",
    "        for epoch in tqdm(range(epochs), total=len(self.train_loader)):\n",
    "            self.model.train()  # set the model to training mode\n",
    "            for images, labels in self.train_loader:\n",
    "                self.optimizer.zero_grad()  # don't forget this line!\n",
    "                images, labels = images.to(self.device), labels.to(self.device)\n",
    "\n",
    "                output = self.softmax(self.model(images))\n",
    "                loss = self.criterion(output, labels)\n",
    "                loss.backward()  # compute the derivatives of the model\n",
    "                optimizer.step()  # update weights according to the optimizer\n",
    "\n",
    "            print('Accuracy at epoch {}: {}'.format(epoch + 1, self.evaluate()))\n",
    "\n",
    "    def evaluate(self):\n",
    "        self.model.eval()  # set the model to eval mode\n",
    "        total = 0\n",
    "\n",
    "        for images, labels in self.test_loader:\n",
    "            images, labels = images.to(self.device), labels.to(self.device)\n",
    "\n",
    "            output = self.softmax(self.model(images))\n",
    "            predicted = torch.max(output, dim=1)[1]  # argmax the output\n",
    "            total += (predicted == labels).sum().item()\n",
    "\n",
    "        return total / len(self.test_loader.dataset)"
   ]
  },
  {
   "cell_type": "code",
   "execution_count": 12,
   "metadata": {},
   "outputs": [
    {
     "name": "stdout",
     "output_type": "stream",
     "text": [
      "Initial accuracy: 0.0865\n",
      "Accuracy at epoch 1: 0.892\n",
      "Accuracy at epoch 2: 0.9189\n",
      "Accuracy at epoch 3: 0.9284\n",
      "Accuracy at epoch 4: 0.9355\n",
      "Accuracy at epoch 5: 0.9406\n",
      "Accuracy at epoch 6: 0.945\n",
      "Accuracy at epoch 7: 0.9476\n",
      "Accuracy at epoch 8: 0.951\n",
      "Accuracy at epoch 9: 0.9522\n",
      "Accuracy at epoch 10: 0.9529\n"
     ]
    }
   ],
   "source": [
    "config = {'lr': 1e-4,\n",
    "          'momentum': 0.9,\n",
    "          'weight_decay': 0.001,\n",
    "          'batch_size': 8,\n",
    "          'epochs': 10,\n",
    "          'device': 'cuda:0',\n",
    "          'seed': 314}\n",
    "\n",
    "# set the seeds to repeat the experiments\n",
    "if 'cuda' in config['device']:\n",
    "    torch.cuda.manual_seed_all(config['seed'])\n",
    "else:\n",
    "    torch.manual_seed(config['seed'])\n",
    "\n",
    "transform = transforms.Compose([transforms.ToTensor(),\n",
    "                                transforms.Normalize((0.5, 0.5, 0.5),\n",
    "                                                     (0.5, 0.5, 0.5))])\n",
    "\n",
    "model = MLP()\n",
    "criterion = nn.CrossEntropyLoss()\n",
    "optimizer = optim.SGD(model.parameters(), lr=config['lr'],\n",
    "                      momentum=config['momentum'],\n",
    "                      weight_decay=config['weight_decay'])\n",
    "\n",
    "batch_size = 8\n",
    "train_loader = DataLoader(\n",
    "    torchvision.datasets.MNIST('./mnist', download=True, train=True,\n",
    "                               transform=transform),\n",
    "    batch_size=config['batch_size'], shuffle=True)\n",
    "test_loader = DataLoader(\n",
    "    torchvision.datasets.MNIST('./mnist', download=True, train=False,\n",
    "                               transform=transform),\n",
    "    batch_size=config['batch_size'], shuffle=False)\n",
    "\n",
    "trainer = Trainer(model, config['device'], train_loader, test_loader,\n",
    "                  criterion, optimizer)\n",
    "trainer.train(epochs=config['epochs'])\n"
   ]
  }
 ],
 "metadata": {
  "kernelspec": {
   "display_name": "Python 3",
   "language": "python",
   "name": "python3"
  },
  "language_info": {
   "codemirror_mode": {
    "name": "ipython",
    "version": 3
   },
   "file_extension": ".py",
   "mimetype": "text/x-python",
   "name": "python",
   "nbconvert_exporter": "python",
   "pygments_lexer": "ipython3",
   "version": "3.7.0"
  },
  "pycharm": {
   "stem_cell": {
    "cell_type": "raw",
    "source": [],
    "metadata": {
     "collapsed": false
    }
   }
  }
 },
 "nbformat": 4,
 "nbformat_minor": 2
}