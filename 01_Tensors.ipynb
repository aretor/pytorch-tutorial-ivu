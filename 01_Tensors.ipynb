{
 "cells": [
  {
   "cell_type": "code",
   "execution_count": 1,
   "metadata": {},
   "outputs": [],
   "source": [
    "import torch"
   ]
  },
  {
   "cell_type": "code",
   "execution_count": 2,
   "metadata": {},
   "outputs": [
    {
     "name": "stdout",
     "output_type": "stream",
     "text": [
      "t1: tensor([[[ 1,  2],\n",
      "         [ 3,  4]],\n",
      "\n",
      "        [[ 5,  6],\n",
      "         [ 7,  8]],\n",
      "\n",
      "        [[ 9, 10],\n",
      "         [11, 12]]])\n",
      "t1 shape: torch.Size([3, 2, 2])\n",
      "t1 dtype: torch.int64\n",
      "\n",
      "t1: tensor([[0., 1., 2.],\n",
      "        [3., 4., 5.],\n",
      "        [6., 7., 8.]])\n",
      "t1 dtype: torch.float32\n",
      "\n",
      "t2: tensor([[1., 1., 1.],\n",
      "        [1., 1., 1.],\n",
      "        [1., 1., 1.]])\n",
      "t2 shape: torch.Size([3, 3])\n",
      "\n",
      "t3: tensor([0., 0., 0.])\n",
      "t3 shape: torch.Size([3])\n",
      "\n",
      "t3r: tensor([[0.],\n",
      "        [0.],\n",
      "        [0.]])\n",
      "t3r shape: torch.Size([3, 1])\n",
      "\n",
      "t4: tensor([[[ 0,  1,  2,  3],\n",
      "         [ 4,  5,  6,  7],\n",
      "         [ 8,  9, 10, 11]],\n",
      "\n",
      "        [[12, 13, 14, 15],\n",
      "         [16, 17, 18, 19],\n",
      "         [20, 21, 22, 23]]])\n",
      "t4 shape: torch.Size([2, 3, 4])\n",
      "\n"
     ]
    }
   ],
   "source": [
    "# let's build our first Tensor and check its shape\n",
    "t1 = torch.tensor([[0,1,2], [3,4,5], [6,7,8]])\n",
    "t1 = torch.tensor([[[1,2], [3,4]], [[5,6], [7,8]], [[9,10], [11,12]]])\n",
    "print('t1: {}'.format(t1))\n",
    "print('t1 shape: {}'.format(t1.shape))\n",
    "print('t1 dtype: {}\\n'.format(t1.dtype))\n",
    "\n",
    "# alternatively\n",
    "t1 = torch.arange(9).view(3, 3)\n",
    "\n",
    "# can also define t1 as a FloatTensor\n",
    "t1 = torch.arange(9.).view(3, -1)\n",
    "print('t1: {}'.format(t1))\n",
    "print('t1 dtype: {}\\n'.format(t1.dtype))\n",
    "\n",
    "# generate a (3,3) Tensor with all ones\n",
    "t2 = torch.ones(3, 3)\n",
    "print('t2: {}'.format(t2))\n",
    "print('t2 shape: {}\\n'.format(t2.shape))\n",
    "\n",
    "# generate a (3,) Tensor with all zeros\n",
    "t3 = torch.zeros(3)\n",
    "print('t3: {}'.format(t3))\n",
    "print('t3 shape: {}\\n'.format(t3.shape))\n",
    "\n",
    "# (n,) Tensors can be reshaped to (n,1) or (1,n) to allow operations requiring bidimensional Tensors\n",
    "t3r = t3.view(3, 1)\n",
    "print('t3r: {}'.format(t3r))\n",
    "print('t3r shape: {}\\n'.format(t3r.shape))\n",
    "\n",
    "# can create higher dimensional Tensors\n",
    "t4 = torch.arange(24).view(2,3,4)\n",
    "print('t4: {}'.format(t4))\n",
    "print('t4 shape: {}\\n'.format(t4.shape))"
   ]
  },
  {
   "cell_type": "code",
   "execution_count": 3,
   "metadata": {},
   "outputs": [
    {
     "name": "stdout",
     "output_type": "stream",
     "text": [
      "sum:\n",
      " tensor([[1., 2., 3.],\n",
      "        [4., 5., 6.],\n",
      "        [7., 8., 9.]])\n",
      "\n",
      "element-wise product:\n",
      " tensor([[0., 1., 2.],\n",
      "        [3., 4., 5.],\n",
      "        [6., 7., 8.]])\n",
      "\n",
      "matrix product:\n",
      " tensor([[ 3.,  3.,  3.],\n",
      "        [12., 12., 12.],\n",
      "        [21., 21., 21.]])\n",
      "\n",
      "exp:\n",
      " tensor([[1.0000e+00, 2.7183e+00, 7.3891e+00],\n",
      "        [2.0086e+01, 5.4598e+01, 1.4841e+02],\n",
      "        [4.0343e+02, 1.0966e+03, 2.9810e+03]])\n",
      "\n"
     ]
    }
   ],
   "source": [
    "# perform some basic operation on Tensor\n",
    "print('sum:\\n {}\\n'.format(t1 + t2))\n",
    "print('element-wise product:\\n {}\\n'.format(t1 * t2))\n",
    "print('matrix product:\\n {}\\n'.format(torch.mm(t1, t2)))\n",
    "print('exp:\\n {}\\n'.format(torch.exp(t1))) # sin, cos, log, etc. can be performed similarly\n",
    "# in general NumPy "
   ]
  },
  {
   "cell_type": "code",
   "execution_count": 4,
   "metadata": {},
   "outputs": [
    {
     "name": "stdout",
     "output_type": "stream",
     "text": [
      "tensor([[ 0.,  1.,  2.],\n",
      "        [ 3.,  4.,  5.],\n",
      "        [ 6.,  7.,  8.],\n",
      "        [ 9., 10., 11.],\n",
      "        [12., 13., 14.]])\n",
      "tensor(5.)\n",
      "tensor([3., 4., 5.])\n",
      "tensor([[ 3.,  4.,  5.],\n",
      "        [ 6.,  7.,  8.],\n",
      "        [ 9., 10., 11.],\n",
      "        [12., 13., 14.]])\n",
      "tensor([[ 5.],\n",
      "        [ 8.],\n",
      "        [11.],\n",
      "        [14.]])\n",
      "tensor([ 3.,  5., 10.])\n",
      "tensor([ 0.,  5.,  6.,  7.,  9., 10., 11.])\n"
     ]
    }
   ],
   "source": [
    "# some indexing\n",
    "t5 = torch.arange(15.).view(5, 3)\n",
    "print(t5)\n",
    "print(t5[1, 2])  # element [1, 2]\n",
    "print(t5[1, :])  # row 1\n",
    "print(t5[1:5, :])  # rows 1 to 4\n",
    "print(t5[1:5, 2:])  # submatrix of elements [x, y] s.t. 1 <= x < 5 and 2 <= y\n",
    "print(t5[[1, 1, 3], [0, 2, 1]])  # (3,) Tensor with elements [1, 0], [1, 2] and [3, 1]\n",
    "mask = torch.ByteTensor([[1, 0, 0], [0, 0, 1], [1, 1, 0], [1, 1, 1], [0, 0, 0]])\n",
    "print(t5[mask])  # elements [x, y] wherever mask[x, y] == 1\n",
    "\n",
    "# in general NumPy-like indexing works: https://docs.scipy.org/doc/numpy/user/basics.indexing.html"
   ]
  },
  {
   "cell_type": "code",
   "execution_count": 10,
   "metadata": {},
   "outputs": [
    {
     "name": "stdout",
     "output_type": "stream",
     "text": [
      "t6 device: cpu\n",
      "t7 device: cpu\n",
      "t6.mm(t7) total time (CPU): 0.03164339065551758 sec\n",
      "t6 device: cuda:0\n",
      "t7 device: cuda:0\n",
      "t6.mm(t7) total time (GPU): 0.0001480579376220703 sec\n"
     ]
    }
   ],
   "source": [
    "import time\n",
    "# device choice (runs only if you have CUDA enabled)\n",
    "t6 = torch.rand(1000, 1000)  # 100 * 100 = 10000 random numbers in [0, 1)\n",
    "t7 = torch.rand(1000, 4000)\n",
    "print('t6 device: {}'.format(t6.device))\n",
    "print('t7 device: {}'.format(t7.device))\n",
    "\n",
    "start = time.time()\n",
    "t6.mm(t7)\n",
    "print('t6.mm(t7) total time (CPU): {} sec'.format(time.time() - start))\n",
    "\n",
    "# now let's send the tensors in the GPU (this takes some time at first)\n",
    "t6 = t6.to('cuda')\n",
    "t7 = t7.to('cuda')\n",
    "print('t6 device: {}'.format(t6.device))\n",
    "print('t7 device: {}'.format(t7.device))\n",
    "\n",
    "start = time.time()\n",
    "t6.mm(t7)\n",
    "print('t6.mm(t7) total time (GPU): {} sec'.format(time.time() - start))"
   ]
  },
  {
   "cell_type": "code",
   "execution_count": null,
   "metadata": {},
   "outputs": [],
   "source": []
  }
 ],
 "metadata": {
  "kernelspec": {
   "display_name": "Python 3",
   "language": "python",
   "name": "python3"
  },
  "language_info": {
   "codemirror_mode": {
    "name": "ipython",
    "version": 3
   },
   "file_extension": ".py",
   "mimetype": "text/x-python",
   "name": "python",
   "nbconvert_exporter": "python",
   "pygments_lexer": "ipython3",
   "version": "3.6.6"
  }
 },
 "nbformat": 4,
 "nbformat_minor": 2
}
