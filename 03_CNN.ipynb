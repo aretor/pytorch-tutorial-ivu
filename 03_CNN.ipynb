{
 "cells": [
  {
   "cell_type": "code",
   "execution_count": 1,
   "metadata": {},
   "outputs": [],
   "source": [
    "import torch\n",
    "import torch.nn as nn\n",
    "import torch.optim as optim\n",
    "from torch.utils.data import DataLoader\n",
    "import torchvision\n",
    "import torchvision.transforms as transforms\n",
    "from tqdm import tqdm"
   ]
  },
  {
   "cell_type": "code",
   "execution_count": 6,
   "metadata": {},
   "outputs": [],
   "source": [
    "class CNN(nn.Module):\n",
    "    def __init__(self):\n",
    "        super().__init__()\n",
    "        self.feat_extractor = nn.Sequential(nn.Conv2d(1, 64, 3),\n",
    "                                            nn.ReLU(),\n",
    "                                            nn.BatchNorm2d(64),\n",
    "                                            nn.MaxPool2d(2),\n",
    "                                            nn.Conv2d(64, 128, 3),\n",
    "                                            nn.ReLU(),\n",
    "                                            nn.BatchNorm2d(128),\n",
    "                                            nn.MaxPool2d(2))\n",
    "        self.classifier = nn.Sequential(nn.Linear(25 * 128, 1024),\n",
    "                                        nn.ReLU(),\n",
    "                                        nn.Linear(1024, 1024),\n",
    "                                        nn.ReLU(),\n",
    "                                        nn.Linear(1024, 10))\n",
    "\n",
    "    def forward(self, x):\n",
    "        x = self.feat_extractor(x)\n",
    "        n, c, h, w = x.shape\n",
    "        x = x.view(n, -1)\n",
    "        x = self.classifier(x)\n",
    "        return x"
   ]
  },
  {
   "cell_type": "code",
   "execution_count": 3,
   "metadata": {},
   "outputs": [],
   "source": [
    "class Trainer(object):\n",
    "    def __init__(self, model, device, train_loader, test_loader, criterion,\n",
    "                 optimizer):\n",
    "        self.model = model.to(device)\n",
    "        self.device = device\n",
    "        self.criterion = criterion\n",
    "        self.optimizer = optimizer\n",
    "        self.softmax = nn.Softmax(dim=1)\n",
    "\n",
    "        self.train_loader = train_loader\n",
    "        self.test_loader = test_loader\n",
    "\n",
    "    def train(self, epochs=10):\n",
    "        print('Initial accuracy: {}'.format(self.evaluate()))\n",
    "        for epoch in range(1, epochs + 1):\n",
    "            self.model.train()  # set the model to training mode\n",
    "            for images, labels in tqdm(self.train_loader,\n",
    "                                       total=len(self.train_loader)):\n",
    "                self.optimizer.zero_grad()  # don't forget this line!\n",
    "                images, labels = images.to(self.device), labels.to(self.device)\n",
    "\n",
    "                output = self.softmax(self.model(images))\n",
    "                loss = self.criterion(output, labels)\n",
    "                loss.backward()  # compute the derivatives of the model\n",
    "                optimizer.step()  # update weights according to the optimizer\n",
    "\n",
    "            print('\\nAccuracy at epoch {}: {}'.format(epoch, self.evaluate()))\n",
    "\n",
    "    def evaluate(self):\n",
    "        self.model.eval()  # set the model to eval mode\n",
    "        total = 0\n",
    "\n",
    "        for images, labels in tqdm(self.test_loader, \n",
    "                                   total=len(self.test_loaderer)):\n",
    "            images, labels = images.to(self.device), labels.to(self.device)\n",
    "\n",
    "            output = self.softmax(self.model(images))\n",
    "            predicted = torch.max(output, dim=1)[1]  # argmax the output\n",
    "            total += (predicted == labels).sum().item()\n",
    "\n",
    "        return total / len(self.test_loader.dataset)"
   ]
  },
  {
   "cell_type": "code",
   "execution_count": 7,
   "metadata": {},
   "outputs": [
    {
     "name": "stdout",
     "output_type": "stream",
     "text": [
      "Initial accuracy: 0.0876\n",
      "Accuracy at epoch 1: 0.7682\n",
      "Accuracy at epoch 2: 0.9587\n",
      "Accuracy at epoch 3: 0.9704\n",
      "Accuracy at epoch 4: 0.9765\n",
      "Accuracy at epoch 5: 0.979\n",
      "Accuracy at epoch 6: 0.9811\n",
      "Accuracy at epoch 7: 0.9824\n",
      "Accuracy at epoch 8: 0.9844\n",
      "Accuracy at epoch 9: 0.9849\n",
      "Accuracy at epoch 10: 0.9854\n"
     ]
    }
   ],
   "source": [
    "config = {'lr': 1e-4,\n",
    "          'momentum': 0.9,\n",
    "          'weight_decay': 0.001,\n",
    "          'batch_size': 8,\n",
    "          'epochs': 10,\n",
    "          'device': 'cuda:0',\n",
    "          'seed': 314}\n",
    "\n",
    "# set the seeds to repeat the experiments\n",
    "if 'cuda' in config['device']:\n",
    "    torch.cuda.manual_seed_all(config['seed'])\n",
    "else:\n",
    "    torch.manual_seed(config['seed'])\n",
    "\n",
    "transform = transforms.Compose([transforms.ToTensor(),\n",
    "                                transforms.Normalize((0.5,),\n",
    "                                                     (0.5,))])\n",
    "\n",
    "model = CNN()\n",
    "criterion = nn.CrossEntropyLoss()\n",
    "optimizer = optim.SGD(model.parameters(), lr=config['lr'],\n",
    "                      momentum=config['momentum'],\n",
    "                      weight_decay=config['weight_decay'])\n",
    "\n",
    "batch_size = 8\n",
    "train_loader = DataLoader(\n",
    "    torchvision.datasets.MNIST('./mnist', download=True, train=True,\n",
    "                               transform=transform),\n",
    "    batch_size=config['batch_size'], shuffle=True)\n",
    "test_loader = DataLoader(\n",
    "    torchvision.datasets.MNIST('./mnist', download=True, train=False,\n",
    "                               transform=transform),\n",
    "    batch_size=config['batch_size'], shuffle=False)\n",
    "\n",
    "trainer = Trainer(model, config['device'], train_loader, test_loader,\n",
    "                  criterion, optimizer)\n",
    "trainer.train(epochs=config['epochs'])\n"
   ]
  }
 ],
 "metadata": {
  "kernelspec": {
   "display_name": "Python 3",
   "language": "python",
   "name": "python3"
  },
  "language_info": {
   "codemirror_mode": {
    "name": "ipython",
    "version": 3
   },
   "file_extension": ".py",
   "mimetype": "text/x-python",
   "name": "python",
   "nbconvert_exporter": "python",
   "pygments_lexer": "ipython3",
   "version": "3.7.0"
  },
  "pycharm": {
   "stem_cell": {
    "cell_type": "raw",
    "source": [],
    "metadata": {
     "collapsed": false
    }
   }
  }
 },
 "nbformat": 4,
 "nbformat_minor": 2
}